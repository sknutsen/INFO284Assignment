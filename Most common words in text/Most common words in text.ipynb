{
 "cells": [
  {
   "cell_type": "code",
   "execution_count": 2,
   "metadata": {},
   "outputs": [
    {
     "name": "stdout",
     "output_type": "stream",
     "text": [
      "How many most common words to print: 12\n",
      "\n",
      "OK. The 12 most common words are as follows\n",
      "\n",
      "and :  3027\n",
      "of :  2756\n",
      "i :  2754\n",
      "to :  2162\n",
      "my :  1751\n",
      "a :  1438\n",
      "in :  1178\n",
      "was :  1020\n",
      "that :  1017\n",
      "me :  791\n",
      "with :  713\n",
      "had :  686\n"
     ]
    },
    {
     "data": {
      "text/plain": [
       "<matplotlib.axes._subplots.AxesSubplot at 0x2a1bc3c4a58>"
      ]
     },
     "execution_count": 2,
     "metadata": {},
     "output_type": "execute_result"
    },
    {
     "data": {
      "image/png": "[encoded data removed]",
      "text/plain": [
       "<Figure size 432x288 with 1 Axes>"
      ]
     },
     "metadata": {
      "needs_background": "light"
     },
     "output_type": "display_data"
    }
   ],
   "source": [
    "#Eksempel på kode for å hente ut antall ord fra tekst\n",
    "#Inkluderer boken frankenstein og en tom stopwords-liste\n",
    "#Fra \"https://towardsdatascience.com/very-simple-python-script-for-extracting-most-common-words-from-a-story-1e3570d0b9d0\"\n",
    "\n",
    "import collections\n",
    "import pandas as pd\n",
    "import matplotlib.pyplot as plt\n",
    "%matplotlib inline\n",
    "\n",
    "# Read input file, note the encoding is specified here \n",
    "# It may be different in your text file\n",
    "file = open('frankenstein.txt', encoding=\"utf8\")\n",
    "a= file.read()\n",
    "\n",
    "# Stopwords\n",
    "stopwords = set(line.strip() for line in open('stopwords.txt'))\n",
    "stopwords = stopwords.union(set(['mr','mrs','one','two','said']))\n",
    "\n",
    "# Instantiate a dictionary, and for every word in the file, \n",
    "# Add to the dictionary if it doesn't exist. If it does, increase the count.\n",
    "wordcount = {}\n",
    "\n",
    "# To eliminate duplicates, remember to split by punctuation, and use case demiliters.\n",
    "for word in a.lower().split():\n",
    "    word = word.replace(\".\",\"\")\n",
    "    word = word.replace(\",\",\"\")\n",
    "    word = word.replace(\":\",\"\")\n",
    "    word = word.replace(\"\\\"\",\"\")\n",
    "    word = word.replace(\"!\",\"\")\n",
    "    word = word.replace(\"â€œ\",\"\")\n",
    "    word = word.replace(\"â€˜\",\"\")\n",
    "    word = word.replace(\"*\",\"\")\n",
    "    if word not in stopwords:\n",
    "        if word not in wordcount:\n",
    "            wordcount[word] = 1\n",
    "        else:\n",
    "            wordcount[word] += 1\n",
    "\n",
    "# Print most common word\n",
    "n_print = int(input(\"How many most common words to print: \"))\n",
    "print(\"\\nOK. The {} most common words are as follows\\n\".format(n_print))\n",
    "word_counter = collections.Counter(wordcount)\n",
    "for word, count in word_counter.most_common(n_print):\n",
    "    print(word, \": \", count)\n",
    "\n",
    "# Close the file\n",
    "file.close()\n",
    "\n",
    "# Create a data frame of the most common words \n",
    "# Draw a bar chart\n",
    "lst = word_counter.most_common(n_print)\n",
    "df = pd.DataFrame(lst, columns = ['Word', 'Count'])\n",
    "df.plot.bar(x='Word',y='Count')"
   ]
  },
  {
   "cell_type": "code",
   "execution_count": null,
   "metadata": {},
   "outputs": [],
   "source": []
  }
 ],
 "metadata": {
  "kernelspec": {
   "display_name": "Python 3",
   "language": "python",
   "name": "python3"
  },
  "language_info": {
   "codemirror_mode": {
    "name": "ipython",
    "version": 3
   },
   "file_extension": ".py",
   "mimetype": "text/x-python",
   "name": "python",
   "nbconvert_exporter": "python",
   "pygments_lexer": "ipython3",
   "version": "3.7.1"
  }
 },
 "nbformat": 4,
 "nbformat_minor": 2
}
