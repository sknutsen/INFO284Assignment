{
 "cells": [
  {
   "cell_type": "code",
   "execution_count": 14,
   "metadata": {},
   "outputs": [],
   "source": [
    "# Obligatory assignment 2\n",
    "# Students: skn003, tre081\n",
    "\n",
    "import numpy as np\n",
    "import pandas as pd\n",
    "import re\n",
    "import regex\n",
    "import nltk\n",
    "import matplotlib.pyplot as plt"
   ]
  },
  {
   "cell_type": "code",
   "execution_count": 15,
   "metadata": {},
   "outputs": [],
   "source": [
    "# Assignment 2 prep\n",
    "\n",
    "# Reading vocabulary and dataset for future use\n",
    "vocab = pd.read_csv('Vocabulary_final.csv', delimiter = ',')\n",
    "train = pd.read_csv('newtrain.csv', delimiter = ',')"
   ]
  },
  {
   "cell_type": "code",
   "execution_count": 17,
   "metadata": {},
   "outputs": [],
   "source": [
    "temp_vocab = dict(vocab).keys()\n",
    "new_vocab = {}\n",
    "vocab_reliable = {}\n",
    "vocab_unreliable = {}\n",
    "labels = train['label']\n",
    "totals = train['total']\n",
    "for word in temp_vocab:\n",
    "    count = 0\n",
    "    unreliable = 0\n",
    "    reliable = 0\n",
    "    for i in range(0, len(vocab) - 1):\n",
    "        try:\n",
    "            wc = totals[i].count(word)     # Counting the ammount of times each word appears\n",
    "            count += wc\n",
    "            if labels[i] == 1:\n",
    "                unreliable += wc           # If the text is unreliable then the \"unreliable wordcount\" is updated\n",
    "            elif labels[i] == 0:\n",
    "                reliable += wc             # If the text is reliable then the \"reliable wordcount\" is updated\n",
    "        except KeyError:\n",
    "            x = 1 + 1                      # Filler line\n",
    "    new_vocab[word] = count                # Adding word with total amount of times it occurrs\n",
    "    vocab_reliable[word] = reliable        # Adding word with amount of times it occurrs in reliable texts\n",
    "    vocab_unreliable[word] = unreliable    # Adding word with amount of times it occurrs in unreliable texts"
   ]
  },
  {
   "cell_type": "code",
   "execution_count": 18,
   "metadata": {},
   "outputs": [],
   "source": [
    "df_values = {'word': list(new_vocab.keys()), 'count': list(new_vocab.values())}\n",
    "df = pd.DataFrame(data=df_values)\n",
    "pd.DataFrame(df).to_csv('Vocabulary_with_counts.csv', sep=',')\n",
    "\n",
    "df_ur_values = {'word': list(vocab_unreliable.keys()), 'count': list(vocab_unreliable.values())}\n",
    "df_ur = pd.DataFrame(data=df_ur_values)\n",
    "pd.DataFrame(df_ur).to_csv('Vocabulary_unreliable.csv', sep=',')\n",
    "\n",
    "df_r_values = {'word': list(vocab_reliable.keys()), 'count': list(vocab_reliable.values())}\n",
    "df_r = pd.DataFrame(data=df_r_values)\n",
    "pd.DataFrame(df_r).to_csv('Vocabulary_reliable.csv', sep=',')"
   ]
  },
  {
   "cell_type": "code",
   "execution_count": 22,
   "metadata": {},
   "outputs": [],
   "source": [
    "# The classifier    \n",
    "def classifier(inp):\n",
    "    # Stores the full vocabulary with total word count\n",
    "    vocab = pd.read_csv('Vocabulary_with_counts.csv', delimiter = ',') \n",
    "    # Stores the full vocabulary with number of times each word occurrs in reliable texts\n",
    "    vocab_reliable = pd.read_csv('Vocabulary_reliable.csv', delimiter = ',') \n",
    "    # Stores the full vocabulary with number of times each word occurrs in unreliable texts\n",
    "    vocab_unreliable = pd.read_csv('Vocabulary_unreliable.csv', delimiter = ',')\n",
    "    vocab_labels = {}\n",
    "    vocab_words = vocab['word']\n",
    "    reliable_word_count = vocab_reliable['count']\n",
    "    unreliable_word_count = vocab_unreliable['count']\n",
    "    for i in range(len(vocab['word'])):\n",
    "        # Determining whether a word is reliable and assigning a value consistent with training dataset\n",
    "        if reliable_word_count[i] >= unreliable_word_count[i]:\n",
    "            vocab_labels[vocab_words[i]] = 0\n",
    "        else:\n",
    "            vocab_labels[vocab_words[i]] = 1\n",
    "    text = ''\n",
    "    # If the input is a filename we open and read the associated textfile\n",
    "    if inp[-4:] == '.txt':\n",
    "        file = open(inp, 'r')\n",
    "        text = file.read()\n",
    "        file.close()\n",
    "    else:\n",
    "        text = inp\n",
    "    reliability_sum = 0\n",
    "    total_count = 0\n",
    "    for w in vocab_labels.keys():\n",
    "        words = text.split()\n",
    "        for word in words:\n",
    "            clone = word\n",
    "            for c in clone:\n",
    "                if c in ['_', ')', '(', '{', '}', '[', ']', '/', ',', '.']:\n",
    "                    word.replace(c, '')\n",
    "            if w == word:\n",
    "                reliability_sum += vocab_labels[w]\n",
    "                total_count += 1\n",
    "    avg_reliability = reliability_sum / total_count    # Calculating the average reliability of the text\n",
    "    # Converting the average to integer so that it will either be 1, unreliable, or 0, reliable.\n",
    "    if int(avg_reliability) == 1:\n",
    "        print(\"This text is unreliable!\")\n",
    "        print(avg_reliability)\n",
    "        return 1\n",
    "    elif int(avg_reliability) == 0:\n",
    "        print(\"This text is reliable!\")\n",
    "        print(avg_reliability)\n",
    "        return 0"
   ]
  },
  {
   "cell_type": "code",
   "execution_count": 23,
   "metadata": {},
   "outputs": [],
   "source": [
    "'''\n",
    "__Function__ \n",
    "testset_label_difference:\n",
    "    When the classifier is run\n",
    "    Increment incorrect_label by 1 for each incorrectly labelled text\n",
    "'''\n",
    "def testset_label_difference(testset, target):\n",
    "    testset_length = len(testset)\n",
    "    incorrect_label = 0\n",
    "    \n",
    "    '''\n",
    "    __Function__ \n",
    "    error_rate_calculator:\n",
    "        Divides number of incorrectly labelled texts by total number of texts\n",
    "        Prints results\n",
    "    '''\n",
    "    def error_rate_calculator():\n",
    "        print('Total length of test set:', testset_length)\n",
    "        print('Number of incorrectly labelled texts:', incorrect_label)\n",
    "        print('The error rate of the classifier is:', incorrect_label / testset_length)\n",
    "        \n",
    "    i = 0\n",
    "    while i < testset_length:\n",
    "        new_label = classifier(testset[i])  # Running the classifier on text in test set\n",
    "        if target[i] != new_label:\n",
    "            incorrect_label += 1  # Increase the count if the classifier is wrong\n",
    "        i += 1\n",
    "        \n",
    "    error_rate_calculator()  # Calculating the results"
   ]
  },
  {
   "cell_type": "code",
   "execution_count": 19,
   "metadata": {},
   "outputs": [],
   "source": [
    "import sklearn\n",
    "from sklearn.model_selection import train_test_split"
   ]
  },
  {
   "cell_type": "code",
   "execution_count": 20,
   "metadata": {},
   "outputs": [],
   "source": [
    "data_tar = pd.DataFrame(train['label'], columns = ['Unreliable'])"
   ]
  },
  {
   "cell_type": "code",
   "execution_count": 21,
   "metadata": {},
   "outputs": [
    {
     "ename": "ValueError",
     "evalue": "Found input variables with inconsistent numbers of samples: [17835, 0]",
     "output_type": "error",
     "traceback": [
      "\u001b[1;31m---------------------------------------------------------------------------\u001b[0m",
      "\u001b[1;31mValueError\u001b[0m                                Traceback (most recent call last)",
      "\u001b[1;32m<ipython-input-21-e426e51a094e>\u001b[0m in \u001b[0;36m<module>\u001b[1;34m\u001b[0m\n\u001b[0;32m      1\u001b[0m \u001b[0mX\u001b[0m \u001b[1;33m=\u001b[0m \u001b[0mpd\u001b[0m\u001b[1;33m.\u001b[0m\u001b[0mDataFrame\u001b[0m\u001b[1;33m(\u001b[0m\u001b[0mtrain\u001b[0m\u001b[1;33m[\u001b[0m\u001b[1;34m'text'\u001b[0m\u001b[1;33m]\u001b[0m\u001b[1;33m,\u001b[0m \u001b[0mcolumns\u001b[0m \u001b[1;33m=\u001b[0m \u001b[0mdf_values\u001b[0m\u001b[1;33m[\u001b[0m\u001b[1;34m'word'\u001b[0m\u001b[1;33m]\u001b[0m\u001b[1;33m)\u001b[0m\u001b[1;33m\u001b[0m\u001b[1;33m\u001b[0m\u001b[0m\n\u001b[0;32m      2\u001b[0m \u001b[0my\u001b[0m \u001b[1;33m=\u001b[0m \u001b[0mnp\u001b[0m\u001b[1;33m.\u001b[0m\u001b[0mravel\u001b[0m\u001b[1;33m(\u001b[0m\u001b[0mdata_tar\u001b[0m\u001b[1;33m)\u001b[0m\u001b[1;33m\u001b[0m\u001b[1;33m\u001b[0m\u001b[0m\n\u001b[1;32m----> 3\u001b[1;33m \u001b[0mX_train\u001b[0m\u001b[1;33m,\u001b[0m \u001b[0mX_test\u001b[0m\u001b[1;33m,\u001b[0m \u001b[0my_train\u001b[0m\u001b[1;33m,\u001b[0m \u001b[0my_test\u001b[0m \u001b[1;33m=\u001b[0m \u001b[0mtrain_test_split\u001b[0m\u001b[1;33m(\u001b[0m\u001b[0mX\u001b[0m\u001b[1;33m,\u001b[0m \u001b[0my\u001b[0m\u001b[1;33m,\u001b[0m \u001b[0mtest_size\u001b[0m\u001b[1;33m=\u001b[0m\u001b[1;36m0.3\u001b[0m\u001b[1;33m,\u001b[0m \u001b[0mrandom_state\u001b[0m\u001b[1;33m=\u001b[0m\u001b[1;36m42\u001b[0m\u001b[1;33m)\u001b[0m\u001b[1;33m\u001b[0m\u001b[1;33m\u001b[0m\u001b[0m\n\u001b[0m\u001b[0;32m      4\u001b[0m \u001b[0mX_train\u001b[0m\u001b[1;33m.\u001b[0m\u001b[0mhead\u001b[0m\u001b[1;33m(\u001b[0m\u001b[1;33m)\u001b[0m\u001b[1;33m\u001b[0m\u001b[1;33m\u001b[0m\u001b[0m\n",
      "\u001b[1;32mD:\\Programs\\Anaconda3\\lib\\site-packages\\sklearn\\model_selection\\_split.py\u001b[0m in \u001b[0;36mtrain_test_split\u001b[1;34m(*arrays, **options)\u001b[0m\n\u001b[0;32m   2182\u001b[0m         \u001b[0mtest_size\u001b[0m \u001b[1;33m=\u001b[0m \u001b[1;36m0.25\u001b[0m\u001b[1;33m\u001b[0m\u001b[1;33m\u001b[0m\u001b[0m\n\u001b[0;32m   2183\u001b[0m \u001b[1;33m\u001b[0m\u001b[0m\n\u001b[1;32m-> 2184\u001b[1;33m     \u001b[0marrays\u001b[0m \u001b[1;33m=\u001b[0m \u001b[0mindexable\u001b[0m\u001b[1;33m(\u001b[0m\u001b[1;33m*\u001b[0m\u001b[0marrays\u001b[0m\u001b[1;33m)\u001b[0m\u001b[1;33m\u001b[0m\u001b[1;33m\u001b[0m\u001b[0m\n\u001b[0m\u001b[0;32m   2185\u001b[0m \u001b[1;33m\u001b[0m\u001b[0m\n\u001b[0;32m   2186\u001b[0m     \u001b[1;32mif\u001b[0m \u001b[0mshuffle\u001b[0m \u001b[1;32mis\u001b[0m \u001b[1;32mFalse\u001b[0m\u001b[1;33m:\u001b[0m\u001b[1;33m\u001b[0m\u001b[1;33m\u001b[0m\u001b[0m\n",
      "\u001b[1;32mD:\\Programs\\Anaconda3\\lib\\site-packages\\sklearn\\utils\\validation.py\u001b[0m in \u001b[0;36mindexable\u001b[1;34m(*iterables)\u001b[0m\n\u001b[0;32m    258\u001b[0m         \u001b[1;32melse\u001b[0m\u001b[1;33m:\u001b[0m\u001b[1;33m\u001b[0m\u001b[1;33m\u001b[0m\u001b[0m\n\u001b[0;32m    259\u001b[0m             \u001b[0mresult\u001b[0m\u001b[1;33m.\u001b[0m\u001b[0mappend\u001b[0m\u001b[1;33m(\u001b[0m\u001b[0mnp\u001b[0m\u001b[1;33m.\u001b[0m\u001b[0marray\u001b[0m\u001b[1;33m(\u001b[0m\u001b[0mX\u001b[0m\u001b[1;33m)\u001b[0m\u001b[1;33m)\u001b[0m\u001b[1;33m\u001b[0m\u001b[1;33m\u001b[0m\u001b[0m\n\u001b[1;32m--> 260\u001b[1;33m     \u001b[0mcheck_consistent_length\u001b[0m\u001b[1;33m(\u001b[0m\u001b[1;33m*\u001b[0m\u001b[0mresult\u001b[0m\u001b[1;33m)\u001b[0m\u001b[1;33m\u001b[0m\u001b[1;33m\u001b[0m\u001b[0m\n\u001b[0m\u001b[0;32m    261\u001b[0m     \u001b[1;32mreturn\u001b[0m \u001b[0mresult\u001b[0m\u001b[1;33m\u001b[0m\u001b[1;33m\u001b[0m\u001b[0m\n\u001b[0;32m    262\u001b[0m \u001b[1;33m\u001b[0m\u001b[0m\n",
      "\u001b[1;32mD:\\Programs\\Anaconda3\\lib\\site-packages\\sklearn\\utils\\validation.py\u001b[0m in \u001b[0;36mcheck_consistent_length\u001b[1;34m(*arrays)\u001b[0m\n\u001b[0;32m    233\u001b[0m     \u001b[1;32mif\u001b[0m \u001b[0mlen\u001b[0m\u001b[1;33m(\u001b[0m\u001b[0muniques\u001b[0m\u001b[1;33m)\u001b[0m \u001b[1;33m>\u001b[0m \u001b[1;36m1\u001b[0m\u001b[1;33m:\u001b[0m\u001b[1;33m\u001b[0m\u001b[1;33m\u001b[0m\u001b[0m\n\u001b[0;32m    234\u001b[0m         raise ValueError(\"Found input variables with inconsistent numbers of\"\n\u001b[1;32m--> 235\u001b[1;33m                          \" samples: %r\" % [int(l) for l in lengths])\n\u001b[0m\u001b[0;32m    236\u001b[0m \u001b[1;33m\u001b[0m\u001b[0m\n\u001b[0;32m    237\u001b[0m \u001b[1;33m\u001b[0m\u001b[0m\n",
      "\u001b[1;31mValueError\u001b[0m: Found input variables with inconsistent numbers of samples: [17835, 0]"
     ]
    }
   ],
   "source": [
    "X = pd.DataFrame(train['text'], columns = df_values['word'])\n",
    "y = np.ravel(data_tar)\n",
    "\n",
    "# Splitting the dataset into train and test sets\n",
    "X_train, X_test, y_train, y_test = train_test_split(X, y, test_size=0.3, random_state=42)"
   ]
  },
  {
   "cell_type": "code",
   "execution_count": 24,
   "metadata": {},
   "outputs": [
    {
     "ename": "NameError",
     "evalue": "name 'X_test' is not defined",
     "output_type": "error",
     "traceback": [
      "\u001b[1;31m---------------------------------------------------------------------------\u001b[0m",
      "\u001b[1;31mNameError\u001b[0m                                 Traceback (most recent call last)",
      "\u001b[1;32m<ipython-input-24-aaa066caa2c9>\u001b[0m in \u001b[0;36m<module>\u001b[1;34m\u001b[0m\n\u001b[1;32m----> 1\u001b[1;33m \u001b[0mtestset_label_difference\u001b[0m\u001b[1;33m(\u001b[0m\u001b[0mX_test\u001b[0m\u001b[1;33m,\u001b[0m \u001b[0my_test\u001b[0m\u001b[1;33m)\u001b[0m\u001b[1;33m\u001b[0m\u001b[1;33m\u001b[0m\u001b[0m\n\u001b[0m",
      "\u001b[1;31mNameError\u001b[0m: name 'X_test' is not defined"
     ]
    }
   ],
   "source": [
    "# Testing the classifier on the test set to see the accuracy\n",
    "testset_label_difference(X_test, y_test)"
   ]
  },
  {
   "cell_type": "code",
   "execution_count": null,
   "metadata": {},
   "outputs": [],
   "source": []
  }
 ],
 "metadata": {
  "kernelspec": {
   "display_name": "Python 3",
   "language": "python",
   "name": "python3"
  },
  "language_info": {
   "codemirror_mode": {
    "name": "ipython",
    "version": 3
   },
   "file_extension": ".py",
   "mimetype": "text/x-python",
   "name": "python",
   "nbconvert_exporter": "python",
   "pygments_lexer": "ipython3",
   "version": "3.7.1"
  }
 },
 "nbformat": 4,
 "nbformat_minor": 2
}
