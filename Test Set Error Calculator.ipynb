{
 "cells": [
  {
   "cell_type": "code",
   "execution_count": 1,
   "metadata": {},
   "outputs": [],
   "source": [
    "'''\n",
    "__Function__ \n",
    "testset_label_difference:\n",
    "    When the classifier is run\n",
    "        Increment wrong_label by 1 for each incorrectly labelled text\n",
    "'''\n",
    "classified_testset_length = 122 #For testing\n",
    "# classified_testset_length = len(classified_testset) #length of actual test set\n",
    "incorrect_label = 0\n",
    "def testset_label_difference(classified_testset):\n",
    "    i = 0\n",
    "    while i < classified_testset_length:\n",
    "        if classified_testset(label) != classified_testset(new_label):\n",
    "            incorrect_label += 1\n",
    "        i += 1"
   ]
  },
  {
   "cell_type": "code",
   "execution_count": 2,
   "metadata": {},
   "outputs": [
    {
     "name": "stdout",
     "output_type": "stream",
     "text": [
      "Total length of classified test set: 122\n",
      "Number of incorrectly labelled texts: 0\n",
      "The error rate of the classifier is: 0.0\n"
     ]
    }
   ],
   "source": [
    "'''\n",
    "__Function__ \n",
    "error_rate_calculator:\n",
    "    Divides number of incorrectly labelled texts by total number of texts\n",
    "    Prints results\n",
    "'''\n",
    "#classified_testset = 127 #For testing\n",
    "#classified_testset = len(test_set) #length of actual test set\n",
    "def error_rate_calculator():\n",
    "    print('Total length of classified test set:', classified_testset_length) #needs a len(classified_testset), not an int tester\n",
    "    print('Number of incorrectly labelled texts:', incorrect_label)\n",
    "    print('The error rate of the classifier is:', incorrect_label / classified_testset_length) \n",
    "    \n",
    "error_rate_calculator()"
   ]
  },
  {
   "cell_type": "code",
   "execution_count": null,
   "metadata": {},
   "outputs": [],
   "source": []
  }
 ],
 "metadata": {
  "kernelspec": {
   "display_name": "Python 3",
   "language": "python",
   "name": "python3"
  },
  "language_info": {
   "codemirror_mode": {
    "name": "ipython",
    "version": 3
   },
   "file_extension": ".py",
   "mimetype": "text/x-python",
   "name": "python",
   "nbconvert_exporter": "python",
   "pygments_lexer": "ipython3",
   "version": "3.7.1"
  }
 },
 "nbformat": 4,
 "nbformat_minor": 2
}
