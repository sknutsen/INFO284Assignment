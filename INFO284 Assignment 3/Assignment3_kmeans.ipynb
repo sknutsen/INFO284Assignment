{
 "cells": [
  {
   "cell_type": "code",
   "execution_count": 100,
   "metadata": {},
   "outputs": [
    {
     "name": "stdout",
     "output_type": "stream",
     "text": [
      "Column headings:\n",
      "Index([0, 3, 5, 10, 30], dtype='object')\n"
     ]
    }
   ],
   "source": [
    "# Totally inspired by: \n",
    "#   https://datascience.stackexchange.com/questions/26678/k-means-program-in-python-for-large-excel-database\n",
    "#   Müller and Guido, Introduction to Machine Learning with Python, O'Reilly (2017)\n",
    "#   https://jakevdp.github.io/PythonDataScienceHandbook/05.11-k-means.html\n",
    "\n",
    "### IMPORTS\n",
    "%matplotlib inline\n",
    "import matplotlib.pyplot as plt\n",
    "import seaborn as sns; sns.set() #for plot styling\n",
    "import numpy as np\n",
    "import pandas as pd\n",
    "import mglearn\n",
    "\n",
    "from sklearn.datasets import make_blobs\n",
    "from sklearn.cluster import KMeans\n",
    "\n",
    "\n",
    "#from numpy import arange\n",
    "#from sklearn.decomposition import PCA\n",
    "#import plotly as pl\n",
    "#import plotly.graph_objs as go\n",
    "#from plotly.offline import init_notebook_mode, iplot\n",
    "#init_notebook_mode\n",
    "\n",
    "\n",
    "#df = pd.read_excel(filename, sheetname=0, parse_cols='B:D', index_col=0, header=[0,1])\n",
    "\n",
    "#xls = \"Engelsberger_short.xlsx\"\n",
    "#datasheet = pd.read_excel(xls)\n",
    "data = pd.read_excel('Engelsberger_short.xlsx', skiprows = 0, header = 1)\n",
    "data = data.drop(columns=['Accession (AGI code)', 'Sequence with modifications', 'treatment'])\n"
   ]
  },
  {
   "cell_type": "code",
   "execution_count": 101,
   "metadata": {
    "scrolled": true
   },
   "outputs": [
    {
     "name": "stdout",
     "output_type": "stream",
     "text": [
      "         0         3         5         10        30\n",
      "0  0.079901  0.746354  0.332938  1.000000  0.058065\n",
      "1  0.990037  0.602870  0.028353  0.867053  1.000000\n",
      "2  0.926784  0.908153  0.668234  0.757583  1.000000\n",
      "3  1.000000  0.498232  0.996924  0.001857  0.559389\n",
      "4  1.000000  0.914848  0.639969  0.343794  0.657122\n"
     ]
    }
   ],
   "source": [
    "#print('Column headings:')\n",
    "#print(data.columns)\n",
    "\n",
    "#print(data.head())\n",
    "#data.head()\n",
    "#print(data.columns[:])\n",
    "#data.describe()\n",
    "#print(data.columns.values)\n",
    "#data.isna().head()\n",
    "#print(data.isna().sum())\n",
    "\n",
    "#data.iloc[[1,2]]\n",
    "#data.iloc[:10]\n",
    "#data.iloc[[False,False,False,True,True]]\n",
    "\n",
    "#data.values\n",
    "#data.dtypes"
   ]
  },
  {
   "cell_type": "code",
   "execution_count": 108,
   "metadata": {},
   "outputs": [],
   "source": [
    "#Replaces NaN values in rows with something\n",
    "data.fillna(data.mean(), inplace=True)\n",
    "#Checks for NaN in data\n",
    "data.isna().sum()"
   ]
  },
  {
   "cell_type": "code",
   "execution_count": 113,
   "metadata": {},
   "outputs": [
    {
     "data": {
      "text/plain": [
       "KMeans(algorithm='auto', copy_x=True, init='k-means++', max_iter=300,\n",
       "    n_clusters=5, n_init=10, n_jobs=1, precompute_distances='auto',\n",
       "    random_state=None, tol=0.0001, verbose=0)"
      ]
     },
     "execution_count": 113,
     "metadata": {},
     "output_type": "execute_result"
    }
   ],
   "source": [
    "#Defining X as the values of the contents of columns 0, 3, 5, 10 ,30\n",
    "X=data.iloc[:, 0:5].values\n",
    "\n",
    "#Set number of clusters and fitting of X\n",
    "km = KMeans(n_clusters = 5)\n",
    "km.fit(X)"
   ]
  },
  {
   "cell_type": "code",
   "execution_count": 114,
   "metadata": {},
   "outputs": [
    {
     "name": "stdout",
     "output_type": "stream",
     "text": [
      "[1 2 0 4 0 3 4 0 4 0 1 4 0 3 0 3 4 4 4 0 0 1 3 1 4 2 4 3 3 0 4 4 3 0 3 0 1\n",
      " 4 2 3 3 4 4 4 0 3 3 3 3 1 3 3 3 3 0 4 1 1 2 1 0 2 4 3 0 1 4 1 0 2 3 1 1 3\n",
      " 4 4 4 0 4 3 0 0 1 4 4 2 3 2 2 4 3 0 0 0 0 2 1 4 0 3 0 4 0 0 0 0 0 4 0 4 0\n",
      " 4 0 0 0 3 3 1 4 3 3 1 2 0 3 0 4 4 4 0 1 0 0 0 0 0 2 4 0 3 4 0 4 3 0 1 0 4\n",
      " 3 0 1 0 3 2 0 4 3 0 1 4 0 0 3 4 3 4 3 0 3 4 3 3 3 2 2 0 0 4 0 2 0 0 0 3 2\n",
      " 3 0 4 4 2 0 0 4 3 0 0 2 3 0 0 2 0 0 2 0 0 2 0 0 2 0 3 0 0 0 2 4 0 3 4 4 0\n",
      " 0 0 4 0 4 2 4 4 0 0 4 4 3 0 0 3 0 0 0 0 2 0 0 0 0 0 0 0 0 0 0 0 0 0 0 0 0\n",
      " 0 2 2 0 2 0 0 2 0 0 0 0 0 2 0 0 2 0 0 0 2 0 0 0 2 0 0 2 0 0 0 0 0 0 0 2 0\n",
      " 2 0 0 0 0 0 0 0 0 2 0 0 0 0 2 0 2 0 2 0 0 0 0 0 0 0 0 0 0 0 0 0 0 0 0 0 0\n",
      " 0 0 0 0 0 2 0 0 0 0 2 0 0 0 2 0 0 0 0 0 0 0 0 0 0 0 0 0 0 0 0 0 0 0 0 2 0\n",
      " 2 2 2 0 0 0 0 0 2 0 0 0 0 0 0 0 0 0 2 0 2 0 0 0 2 0 0 0 0 0 0 0 0 2 0 0 2\n",
      " 0 0 0 0 0 0 0 0 0 0 0 0 0 0 0 0 0 0 0 0 0 0 0 0 2 0 0 0 0 0 0 0 2 0 0 0 0\n",
      " 0 0 0 0 0 0 0 0 0 0 0 2 2 0 0 0 0 0 0 0 0 0 2 2 0 2 0 2 2 0 2 0 0 0 0 2 0\n",
      " 0 0 0 0 2 0 0 0 0 0 0 0 0 0 0 0 0 0 0 0 0 0 0 2 0 0 2 0 0 0 2 0 0 0 0 0 0\n",
      " 0 0 0 0 0 0 0 0 0 2 0 2 0 0 0 0 0 2 0 0 0 2 0 0 0 0 0 0 0 2 0 0 0 0 0 0 2\n",
      " 0 2 2 0 0 0 0 0 2 0 0 0 0 0 0 0 0 0 0 0 0 0 0 0 0 0 2 0 0 0 0 0 0 0 2 0 0\n",
      " 0 0 0 0 0 0 2 0 0 0 0 2 0 0 0 2 0 0 2 0 0 0 0 0 0 0 0 0 0 0 0 0 2 0 0 0 0\n",
      " 0 2 0 0 0 0 0 0 2 0 3]\n"
     ]
    }
   ],
   "source": [
    "#print(\"Cluster memberships:\\n{}\". format(km.labels_))\n",
    "#print(km.predict(data))"
   ]
  },
  {
   "cell_type": "code",
   "execution_count": 112,
   "metadata": {},
   "outputs": [
    {
     "data": {
      "text/plain": [
       "[<matplotlib.lines.Line2D at 0x1add712db00>,\n",
       " <matplotlib.lines.Line2D at 0x1add712df98>,\n",
       " <matplotlib.lines.Line2D at 0x1add712e438>,\n",
       " <matplotlib.lines.Line2D at 0x1add712e898>,\n",
       " <matplotlib.lines.Line2D at 0x1add712ed30>]"
      ]
     },
     "execution_count": 112,
     "metadata": {},
     "output_type": "execute_result"
    },
    {
     "data": {
      "image/png": "[encoded data removed]",
      "text/plain": [
       "<Figure size 432x288 with 1 Axes>"
      ]
     },
     "metadata": {},
     "output_type": "display_data"
    }
   ],
   "source": [
    "mglearn.discrete_scatter(X[:, 0], X[:, 1], km.labels_, markers='o')\n",
    "mglearn.discrete_scatter(\n",
    "    km.cluster_centers_[:, 0], km.cluster_centers_[:, 1], [0, 1, 2, 3, 4],\n",
    "    markers='^', markeredgewidth=2)"
   ]
  },
  {
   "cell_type": "code",
   "execution_count": null,
   "metadata": {},
   "outputs": [],
   "source": []
  }
 ],
 "metadata": {
  "kernelspec": {
   "display_name": "Python 3",
   "language": "python",
   "name": "python3"
  },
  "language_info": {
   "codemirror_mode": {
    "name": "ipython",
    "version": 3
   },
   "file_extension": ".py",
   "mimetype": "text/x-python",
   "name": "python",
   "nbconvert_exporter": "python",
   "pygments_lexer": "ipython3",
   "version": "3.6.5"
  }
 },
 "nbformat": 4,
 "nbformat_minor": 2
}
