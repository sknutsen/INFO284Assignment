{
 "cells": [
  {
   "cell_type": "code",
   "execution_count": 1,
   "metadata": {},
   "outputs": [],
   "source": [
    "# Obligatory assignment 1\n",
    "# Students: skn003, tre081\n",
    "\n",
    "import numpy as np\n",
    "import pandas as pd\n",
    "import re\n",
    "import regex\n",
    "import nltk\n",
    "import matplotlib.pyplot as plt"
   ]
  },
  {
   "cell_type": "code",
   "execution_count": 2,
   "metadata": {},
   "outputs": [],
   "source": [
    "def bayes_classifier():\n",
    "    print(\"Press <ENTER> to ignore field\")\n",
    "    text = input(\" - Text: \").strip().lower()\n",
    "    file = input(\" - Filename: \").strip()\n",
    "    train_data = pd.read_csv('newtrain.csv', delimiter = ',')\n",
    "    vocab = pd.read_csv('vocabulary_small.csv', delimiter = ',')\n",
    "    vocab_reliable = {}\n",
    "    vocab_unreliable = {}\n",
    "    if file != '':\n",
    "        file = pd.read_csv(file, delimiter = ',')\n",
    "    "
   ]
  },
  {
   "cell_type": "code",
   "execution_count": null,
   "metadata": {},
   "outputs": [],
   "source": []
  }
 ],
 "metadata": {
  "kernelspec": {
   "display_name": "Python 3",
   "language": "python",
   "name": "python3"
  },
  "language_info": {
   "codemirror_mode": {
    "name": "ipython",
    "version": 3
   },
   "file_extension": ".py",
   "mimetype": "text/x-python",
   "name": "python",
   "nbconvert_exporter": "python",
   "pygments_lexer": "ipython3",
   "version": "3.7.1"
  }
 },
 "nbformat": 4,
 "nbformat_minor": 2
}
