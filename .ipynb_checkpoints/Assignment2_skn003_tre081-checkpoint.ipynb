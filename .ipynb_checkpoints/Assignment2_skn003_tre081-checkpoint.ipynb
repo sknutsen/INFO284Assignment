{
 "cells": [
  {
   "cell_type": "code",
   "execution_count": 2,
   "metadata": {},
   "outputs": [],
   "source": [
    "# Obligatory assignment 2\n",
    "# Students: skn003, tre081\n",
    "\n",
    "import numpy as np\n",
    "import pandas as pd\n",
    "import re\n",
    "import regex\n",
    "import nltk\n",
    "import matplotlib.pyplot as plt"
   ]
  },
  {
   "cell_type": "code",
   "execution_count": 3,
   "metadata": {},
   "outputs": [],
   "source": [
    "# Assignment 2 prep\n",
    "\n",
    "# Reading vocabulary and dataset for future use\n",
    "vocab = pd.read_csv('Vocabulary.csv', delimiter = ',')\n",
    "train = pd.read_csv('newtrain.csv', delimiter = ',')"
   ]
  },
  {
   "cell_type": "code",
   "execution_count": null,
   "metadata": {},
   "outputs": [],
   "source": [
    "temp_vocab = dict(vocab).keys()\n",
    "new_vocab = {}\n",
    "vocab_reliable = {}\n",
    "vocab_unreliable = {}\n",
    "labels = data['label']\n",
    "totals = data['total']\n",
    "for word in temp_vocab:\n",
    "    count = 0\n",
    "    unreliable = 0\n",
    "    reliable = 0\n",
    "    for i in range(0, len(labels)-1):\n",
    "        try:\n",
    "            wc = totals[i].count(word)     # Counting the ammount of times each word appears\n",
    "            count += wc\n",
    "            if labels[i] == 1:\n",
    "                unreliable += wc           # If the text is unreliable then the \"unreliable wordcount\" is updated\n",
    "            elif labels[i] == 0:\n",
    "                reliable += wc             # If the text is reliable then the \"reliable wordcount\" is updated\n",
    "        except KeyError:\n",
    "            x = 1 + 1                      # Filler line\n",
    "    new_vocab[word] = count                # Adding word with total amount of times it occurrs\n",
    "    vocab_reliable[word] = reliable        # Adding word with amount of times it occurrs in reliable texts\n",
    "    vocab_unreliable[word] = unreliable    # Adding word with amount of times it occurrs in unreliable texts"
   ]
  },
  {
   "cell_type": "code",
   "execution_count": null,
   "metadata": {},
   "outputs": [],
   "source": [
    "df_small_values = {'word': list(new_vocab.keys()), 'count': list(new_vocab.values())}\n",
    "df_small = pd.DataFrame(data=df_small_values)\n",
    "pd.DataFrame(df_small).to_csv('Vocabulary_with_counts.csv', sep=',')\n",
    "\n",
    "df_ur_values = {'word': list(vocab_unreliable.keys()), 'count': list(vocab_unreliable.values())}\n",
    "df_ur = pd.DataFrame(data=df_ur_values)\n",
    "pd.DataFrame(df_ur).to_csv('Vocabulary_unreliable.csv', sep=',')\n",
    "\n",
    "df_r_values = {'word': list(vocab_reliable.keys()), 'count': list(vocab_reliable.values())}\n",
    "df_r = pd.DataFrame(data=df_r_values)\n",
    "pd.DataFrame(df_r).to_csv('Vocabulary_reliable.csv', sep=',')"
   ]
  },
  {
   "cell_type": "code",
   "execution_count": 6,
   "metadata": {},
   "outputs": [],
   "source": [
    "import sklearn\n",
    "from sklearn.model_selection import train_test_split"
   ]
  },
  {
   "cell_type": "code",
   "execution_count": null,
   "metadata": {},
   "outputs": [],
   "source": [
    "X_train, X_test, y_train, y_test = train_test_split(train, test_size=0.3)\n",
    "# 2\n",
    "def count_word_in_class(): \n",
    "    counts = {} \n",
    "    for e in list(bigdoc.keys()): \n",
    "        doc = bigdoc[c]\n",
    "        for doc in docs: \n",
    "            words = doc.split('') \n",
    "            for word in words: \n",
    "                count[c][word] += 1 \n",
    "    return counts\n",
    "\n",
    "# 1\n",
    "for x,y in zip(X_train, y_train):\n",
    "    digdoc[y].append(x)\n",
    "    \n",
    "# 3\n",
    "for c in [0, 1]:\n",
    "    tc = 0\n",
    "    for word in voc:\n",
    "        tc = wordcount[c][word]"
   ]
  },
  {
   "cell_type": "code",
   "execution_count": null,
   "metadata": {},
   "outputs": [],
   "source": [
    "# The classifier    \n",
    "def classifier(inp):\n",
    "    # Stores the full vocabulary with total word count\n",
    "    vocab = pd.read_csv('Vocabulary_with_counts.csv', delimiter = ',') \n",
    "    # Stores the full vocabulary with number of times each word occurrs in reliable texts\n",
    "    vocab_reliable = pd.read_csv('Vocabulary_reliable.csv', delimiter = ',') \n",
    "    # Stores the full vocabulary with number of times each word occurrs in unreliable texts\n",
    "    vocab_unreliable = pd.read_csv('Vocabulary_unreliable.csv', delimiter = ',')\n",
    "    vocab_labels = {}\n",
    "    vocab_words = vocab['word']\n",
    "    reliable_word_count = vocab_reliable['count']\n",
    "    unreliable_word_count = vocab_unreliable['count']\n",
    "    for i in range(len(vocab['word'])):\n",
    "        # Determining whether a word is reliable and assigning a value consistent with training dataset\n",
    "        if reliable_word_count[i] >= unreliable_word_count[i]:\n",
    "            vocab_labels[vocab_words[i]] = 0\n",
    "        else:\n",
    "            vocab_labels[vocab_words[i]] = 1\n",
    "    text = ''\n",
    "    # If the input is a filename we open and read the associated textfile\n",
    "    if inp[-4:] == '.txt':\n",
    "        file = open(inp, 'r')\n",
    "        text = file.read()\n",
    "        file.close()\n",
    "    else:\n",
    "        text = inp\n",
    "    reliability_sum = 0\n",
    "    total_count = 0\n",
    "    for w in vocab_labels.keys():\n",
    "        words = text.split()\n",
    "        for word in words:\n",
    "            clone = word\n",
    "            for c in clone:\n",
    "                if c in ['_', ')', '(', '{', '}', '[', ']', '/', ',', '.']:\n",
    "                    word.replace(c, '')\n",
    "            if w == word:\n",
    "                reliability_sum += vocab_labels[w]\n",
    "                total_count += 1\n",
    "    avg_reliability = reliability_sum / total_count    # Calculating the average reliability of the text\n",
    "    # Converting the average to integer so that it will either be 1, unreliable, or 0, reliable.\n",
    "    if int(avg_reliability) == 1:\n",
    "        print(\"This text is unreliable!\")\n",
    "        print(avg_reliability)\n",
    "    elif int(avg_reliability) == 0:\n",
    "        print(\"This text is reliable!\")\n",
    "        print(avg_reliability)"
   ]
  },
  {
   "cell_type": "code",
   "execution_count": null,
   "metadata": {},
   "outputs": [],
   "source": []
  },
  {
   "cell_type": "code",
   "execution_count": null,
   "metadata": {},
   "outputs": [],
   "source": []
  }
 ],
 "metadata": {
  "kernelspec": {
   "display_name": "Python 3",
   "language": "python",
   "name": "python3"
  },
  "language_info": {
   "codemirror_mode": {
    "name": "ipython",
    "version": 3
   },
   "file_extension": ".py",
   "mimetype": "text/x-python",
   "name": "python",
   "nbconvert_exporter": "python",
   "pygments_lexer": "ipython3",
   "version": "3.7.1"
  }
 },
 "nbformat": 4,
 "nbformat_minor": 2
}
