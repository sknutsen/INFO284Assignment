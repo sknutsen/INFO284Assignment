{
 "cells": [
  {
   "cell_type": "code",
   "execution_count": 1,
   "metadata": {},
   "outputs": [],
   "source": [
    "# Obligatory assignment 2\n",
    "# Students: skn003, tre081\n",
    "\n",
    "import numpy as np\n",
    "import pandas as pd\n",
    "import re\n",
    "import regex\n",
    "import nltk\n",
    "import matplotlib.pyplot as plt"
   ]
  },
  {
   "cell_type": "code",
   "execution_count": 3,
   "metadata": {},
   "outputs": [],
   "source": [
    "# Assignment 2 prep\n",
    "\n",
    "# Reading vocabulary and dataset for future use\n",
    "vocabulary = pd.read_csv('Vocabulary_final.csv', delimiter = ',')\n",
    "train = pd.read_csv('newtrain.csv', delimiter = ',')"
   ]
  },
  {
   "cell_type": "code",
   "execution_count": 4,
   "metadata": {},
   "outputs": [],
   "source": [
    "temp_vocab = dict(vocabulary).keys()\n",
    "new_vocab = {}\n",
    "labels = train['label']\n",
    "totals = train['total']\n",
    "for word in temp_vocab:\n",
    "    count = 0\n",
    "    for i in range(0, 100):\n",
    "        try:\n",
    "            wc = totals[i].count(word)     # Counting the ammount of times each word appears\n",
    "            count += wc\n",
    "        except KeyError:\n",
    "            x = 1 + 1                      # Filler line\n",
    "    new_vocab[word] = count                # Adding word with total amount of times it occurrs"
   ]
  },
  {
   "cell_type": "code",
   "execution_count": 5,
   "metadata": {},
   "outputs": [],
   "source": [
    "df_values = {'word': list(new_vocab.keys()), 'count': list(new_vocab.values())}\n",
    "df = pd.DataFrame(data=df_values)\n",
    "pd.DataFrame(df).to_csv('Vocabulary_with_counts.csv', sep=',')"
   ]
  },
  {
   "cell_type": "code",
   "execution_count": 23,
   "metadata": {},
   "outputs": [],
   "source": [
    "# The classifier    \n",
    "class Classifier(object):\n",
    "    def __init__(self):\n",
    "        # Stores the full vocabulary with total word count\n",
    "        self.vocab = pd.read_csv('Vocabulary_with_counts.csv', delimiter = ',') \n",
    "        self.vocab_labels = new dict()\n",
    "        self.vocab_words = self.vocab['word']\n",
    "        self.text_label = new dict()\n",
    "        self.initial_probability = new dict()\n",
    "        self.probabilities = new dict()\n",
    "        \n",
    "        \n",
    "    def get_text_label(self):\n",
    "        return self.text_label\n",
    "    \n",
    "    \n",
    "    def predict(self, test):\n",
    "        text = ''\n",
    "        # If the input is a filename we open and read the associated textfile\n",
    "        if test[-4:] == '.txt':\n",
    "            file = open(test, 'r')\n",
    "            text = file.read()\n",
    "            file.close()\n",
    "        else:\n",
    "            text = test\n",
    "            \n",
    "        vocab_words = list(self.vocab.keys())\n",
    "        sums = {0: 0, 1: 0}\n",
    "        for label in [0, 1]:\n",
    "            sums[label] = self.logprior[label]\n",
    "            words = test.split(\" \")\n",
    "            for word in words:\n",
    "                if word in self.vocab:\n",
    "                    sums[c] += self.probabilities[label][word]\n",
    "        return sums\n",
    "    \n",
    "    \n",
    "    def train(self):\n",
    "        alpha = 0.1\n",
    "        vocab_words = list(self.vocab.keys())\n",
    "        word_counts_by_label = {}\n",
    "        \n",
    "        for t, l in zip(train['text'], train['label']):\n",
    "            self.text_label[l].append(t)\n",
    "        \n",
    "        for k in [0, 1]:\n",
    "            all_texts = self.text_label[k]\n",
    "            word_counts_by_label[k] = defaultdict(int)\n",
    "            for t in all_texts:\n",
    "                words = t.split(\" \")\n",
    "                for word in words:\n",
    "                    word_counts_by_label[k][word] += 1\n",
    "                    \n",
    "        for label in [0, 1]:\n",
    "            label_total_count = sum(train['label'] == label)\n",
    "            \n",
    "            self.initial_probability[label] = np.log(total_c / total_docs)\n",
    "            \n",
    "            total_count = 0\n",
    "            for word in vocab_words:\n",
    "                total_count += self.word_count[label][word]\n",
    "                \n",
    "            for word in vocab_words:\n",
    "                count = self.word_count[label][word]\n",
    "                self.probabilities[label][word] = np.log((count + alpha) / (total_count + alpha * len(self.vocab)))"
   ]
  },
  {
   "cell_type": "code",
   "execution_count": 24,
   "metadata": {},
   "outputs": [],
   "source": [
    "'''\n",
    "__Function__ \n",
    "testset_label_difference:\n",
    "    When the classifier is run\n",
    "    Increment incorrect_label by 1 for each incorrectly labelled text\n",
    "'''\n",
    "def testset_label_difference():\n",
    "    classifier = Classifier()\n",
    "    classifier.train()\n",
    "    testset = classifier.get_text_label()\n",
    "    testset_length = len(testset)\n",
    "    incorrect_label = 0\n",
    "    \n",
    "    '''\n",
    "    __Function__ \n",
    "    error_rate_calculator:\n",
    "        Divides number of incorrectly labelled texts by total number of texts\n",
    "        Prints results\n",
    "    '''\n",
    "    def error_rate_calculator():\n",
    "        print('Total length of test set:', testset_length)\n",
    "        print('Number of incorrectly labelled texts:', incorrect_label)\n",
    "        print('The error rate of the classifier is:', incorrect_label / testset_length)\n",
    "        \n",
    "    \n",
    "    for k in testset.keys():\n",
    "        predict_result = classifier.predict(k)\n",
    "        new_label = 0\n",
    "        if predict_result[0] < predict_result[1]:\n",
    "            new_label = 1  # Running the classifier on text in test set\n",
    "        if testset[k] != new_label:\n",
    "            incorrect_label += 1  # Increase the count if the classifier is wrong\n",
    "        \n",
    "        \n",
    "    error_rate_calculator()  # Calculating the results"
   ]
  },
  {
   "cell_type": "code",
   "execution_count": 25,
   "metadata": {},
   "outputs": [
    {
     "ename": "KeyError",
     "evalue": "1",
     "output_type": "error",
     "traceback": [
      "\u001b[1;31m---------------------------------------------------------------------------\u001b[0m",
      "\u001b[1;31mKeyError\u001b[0m                                  Traceback (most recent call last)",
      "\u001b[1;32m<ipython-input-25-3abeedce9ff5>\u001b[0m in \u001b[0;36m<module>\u001b[1;34m\u001b[0m\n\u001b[0;32m      1\u001b[0m \u001b[0mclassifier\u001b[0m \u001b[1;33m=\u001b[0m \u001b[0mClassifier\u001b[0m\u001b[1;33m(\u001b[0m\u001b[1;33m)\u001b[0m\u001b[1;33m\u001b[0m\u001b[1;33m\u001b[0m\u001b[0m\n\u001b[1;32m----> 2\u001b[1;33m \u001b[0mclassifier\u001b[0m\u001b[1;33m.\u001b[0m\u001b[0mtrain\u001b[0m\u001b[1;33m(\u001b[0m\u001b[1;33m)\u001b[0m\u001b[1;33m\u001b[0m\u001b[1;33m\u001b[0m\u001b[0m\n\u001b[0m\u001b[0;32m      3\u001b[0m \u001b[0mclassifier\u001b[0m\u001b[1;33m.\u001b[0m\u001b[0mpredict\u001b[0m\u001b[1;33m(\u001b[0m\u001b[0mtrain\u001b[0m\u001b[1;33m[\u001b[0m\u001b[1;34m'text'\u001b[0m\u001b[1;33m]\u001b[0m\u001b[1;33m[\u001b[0m\u001b[1;36m1\u001b[0m\u001b[1;33m]\u001b[0m\u001b[1;33m)\u001b[0m\u001b[1;33m\u001b[0m\u001b[1;33m\u001b[0m\u001b[0m\n\u001b[0;32m      4\u001b[0m \u001b[0mtestset_label_difference\u001b[0m\u001b[1;33m(\u001b[0m\u001b[1;33m)\u001b[0m\u001b[1;33m\u001b[0m\u001b[1;33m\u001b[0m\u001b[0m\n",
      "\u001b[1;32m<ipython-input-23-3718b63996da>\u001b[0m in \u001b[0;36mtrain\u001b[1;34m(self)\u001b[0m\n\u001b[0;32m     42\u001b[0m \u001b[1;33m\u001b[0m\u001b[0m\n\u001b[0;32m     43\u001b[0m         \u001b[1;32mfor\u001b[0m \u001b[0mt\u001b[0m\u001b[1;33m,\u001b[0m \u001b[0ml\u001b[0m \u001b[1;32min\u001b[0m \u001b[0mzip\u001b[0m\u001b[1;33m(\u001b[0m\u001b[0mtrain\u001b[0m\u001b[1;33m[\u001b[0m\u001b[1;34m'text'\u001b[0m\u001b[1;33m]\u001b[0m\u001b[1;33m,\u001b[0m \u001b[0mtrain\u001b[0m\u001b[1;33m[\u001b[0m\u001b[1;34m'label'\u001b[0m\u001b[1;33m]\u001b[0m\u001b[1;33m)\u001b[0m\u001b[1;33m:\u001b[0m\u001b[1;33m\u001b[0m\u001b[1;33m\u001b[0m\u001b[0m\n\u001b[1;32m---> 44\u001b[1;33m             \u001b[0mself\u001b[0m\u001b[1;33m.\u001b[0m\u001b[0mtext_label\u001b[0m\u001b[1;33m[\u001b[0m\u001b[0ml\u001b[0m\u001b[1;33m]\u001b[0m\u001b[1;33m.\u001b[0m\u001b[0mappend\u001b[0m\u001b[1;33m(\u001b[0m\u001b[0mt\u001b[0m\u001b[1;33m)\u001b[0m\u001b[1;33m\u001b[0m\u001b[1;33m\u001b[0m\u001b[0m\n\u001b[0m\u001b[0;32m     45\u001b[0m \u001b[1;33m\u001b[0m\u001b[0m\n\u001b[0;32m     46\u001b[0m         \u001b[1;32mfor\u001b[0m \u001b[0mk\u001b[0m \u001b[1;32min\u001b[0m \u001b[1;33m[\u001b[0m\u001b[1;36m0\u001b[0m\u001b[1;33m,\u001b[0m \u001b[1;36m1\u001b[0m\u001b[1;33m]\u001b[0m\u001b[1;33m:\u001b[0m\u001b[1;33m\u001b[0m\u001b[1;33m\u001b[0m\u001b[0m\n",
      "\u001b[1;31mKeyError\u001b[0m: 1"
     ]
    }
   ],
   "source": [
    "classifier = Classifier()\n",
    "classifier.train()\n",
    "classifier.predict(train['text'][1])\n",
    "testset_label_difference()"
   ]
  },
  {
   "cell_type": "code",
   "execution_count": null,
   "metadata": {},
   "outputs": [],
   "source": []
  }
 ],
 "metadata": {
  "kernelspec": {
   "display_name": "Python 3",
   "language": "python",
   "name": "python3"
  },
  "language_info": {
   "codemirror_mode": {
    "name": "ipython",
    "version": 3
   },
   "file_extension": ".py",
   "mimetype": "text/x-python",
   "name": "python",
   "nbconvert_exporter": "python",
   "pygments_lexer": "ipython3",
   "version": "3.7.1"
  }
 },
 "nbformat": 4,
 "nbformat_minor": 2
}
