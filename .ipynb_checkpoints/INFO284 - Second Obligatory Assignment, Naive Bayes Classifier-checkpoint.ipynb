{
 "cells": [
  {
   "cell_type": "markdown",
   "metadata": {},
   "source": [
    "# Second Assignment Breakdown\n",
    "1. Estimate two sets of parameters from the training set to build your classifier\n",
    "2. Use naive Bayes to create the classifer, in order to predict whether a news text is \"fake news\" or not.\n",
    "\t2.2 Are the words in a text sufficient for a successful classification?"
   ]
  },
  {
   "cell_type": "markdown",
   "metadata": {},
   "source": [
    "## 1st set of parameters to estimate:"
   ]
  },
  {
   "cell_type": "code",
   "execution_count": 1,
   "metadata": {},
   "outputs": [],
   "source": [
    "#Class is label(0(reliable),1(unreliable))\n",
    "#Prior probability is the probability of 'label' 0 or 'label' 1\n",
    "##Based on occurences of 'words' from V in 'text' with 'label' 0 or 1"
   ]
  },
  {
   "cell_type": "markdown",
   "metadata": {},
   "source": [
    "## 2nd set of parameters to estimate:"
   ]
  },
  {
   "cell_type": "code",
   "execution_count": 2,
   "metadata": {},
   "outputs": [],
   "source": [
    "#Vocabulary V contains a set of unique words from all row:'text' in training set\n",
    "#Each row 'text' contains a set of unique words\n",
    "#How many times does 'word' from V appear in 'text' where 'label' == 0 or 1 \n",
    "#How many times does 'word' from V appear in all 'text' where 'label' == 0 or 1"
   ]
  },
  {
   "cell_type": "markdown",
   "metadata": {},
   "source": [
    "# Tasks:"
   ]
  },
  {
   "cell_type": "markdown",
   "metadata": {},
   "source": [
    "## Build classifier"
   ]
  },
  {
   "cell_type": "markdown",
   "metadata": {},
   "source": [
    "## Test classifier on test set"
   ]
  },
  {
   "cell_type": "markdown",
   "metadata": {},
   "source": [
    "## Calculate error rate\n",
    "Error rate is number of articles from test set incorrectly labeled, divided by total nubmer of articles in the test set"
   ]
  },
  {
   "cell_type": "markdown",
   "metadata": {},
   "source": [
    "## Create an evaluation function that can be used on the command line\n",
    "Must be able to evaluate a short news article that you can copy-paste into command-line\n",
    "When a news article contains a word not in vocabulary V then posterior class probabilities are zero."
   ]
  },
  {
   "cell_type": "markdown",
   "metadata": {},
   "source": [
    "## Submit, in one compressed folder:\n",
    "1. Python code\n",
    "    1.1 Carefully annotated to be understood by non-author\n",
    "\t1.2 Instructions on how to run the code and how to test a news article from the command line.\n",
    "2. A short text (max 1 page) on your analysis of the classifier you have created:\n",
    "    2.1 Are there words, combinations of words, meta data that with high probability point to a news article being \"fake news\"?\n",
    "\t2.2 Is naive Bayes a good method for solving the problem of classifying \"fake news\"? \t\n",
    "        2.2.1 Why/why not?"
   ]
  }
 ],
 "metadata": {
  "kernelspec": {
   "display_name": "Python 3",
   "language": "python",
   "name": "python3"
  },
  "language_info": {
   "codemirror_mode": {
    "name": "ipython",
    "version": 3
   },
   "file_extension": ".py",
   "mimetype": "text/x-python",
   "name": "python",
   "nbconvert_exporter": "python",
   "pygments_lexer": "ipython3",
   "version": "3.7.1"
  }
 },
 "nbformat": 4,
 "nbformat_minor": 2
}
